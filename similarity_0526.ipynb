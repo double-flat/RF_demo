{
  "cells": [
    {
      "cell_type": "markdown",
      "metadata": {
        "id": "TC87cZ7xudlS"
      },
      "source": [
        "# Roboflowからのデータのダウンロード"
      ]
    },
    {
      "cell_type": "code",
      "execution_count": null,
      "metadata": {
        "colab": {
          "base_uri": "https://localhost:8080/"
        },
        "id": "Ftn_uZ8DuTIB",
        "outputId": "44e214ff-7fb4-4a43-f7e4-04e8de02ce00"
      },
      "outputs": [
        {
          "name": "stdout",
          "output_type": "stream",
          "text": [
            "Successfully installed filetype-1.2.0 idna-3.7 opencv-python-headless-4.10.0.84 pillow-heif-0.22.0 python-dotenv-1.1.0 roboflow-1.1.64\n",
            "loading Roboflow workspace...\n",
            "loading Roboflow project...\n"
          ]
        },
        {
          "name": "stderr",
          "output_type": "stream",
          "text": [
            "Downloading Dataset Version Zip in Train2_Tugas-Akhir-9 to yolov11:: 100%|██████████| 1081096/1081096 [00:46<00:00, 23378.15it/s]"
          ]
        },
        {
          "name": "stdout",
          "output_type": "stream",
          "text": [
            "\n"
          ]
        },
        {
          "name": "stderr",
          "output_type": "stream",
          "text": [
            "\n",
            "Extracting Dataset Version Zip to Train2_Tugas-Akhir-9 in yolov11:: 100%|██████████| 30714/30714 [00:08<00:00, 3608.68it/s]\n"
          ]
        }
      ],
      "source": [
        "!pip install roboflow | tail -n 1\n",
        "ROBOFLOW_API_KEY = \"\"\n",
        "from roboflow import Roboflow\n",
        "rf = Roboflow(api_key=ROBOFLOW_API_KEY)\n",
        "project = rf.workspace(\"bismillah-eoen6\").project(\"train2_tugas-akhir\")\n",
        "version = project.version(9)\n",
        "dataset = version.download(\"yolov11\")"
      ]
    },
    {
      "cell_type": "markdown",
      "metadata": {
        "id": "tWYq6EYnvs1f"
      },
      "source": [
        "# directory構成の整備"
      ]
    },
    {
      "cell_type": "code",
      "execution_count": 2,
      "metadata": {
        "id": "tRH8_uymuzMC"
      },
      "outputs": [],
      "source": [
        "!mv Train2_Tugas-Akhir-9 dataset"
      ]
    },
    {
      "cell_type": "code",
      "execution_count": 3,
      "metadata": {
        "id": "DLNC7v32uj1Z"
      },
      "outputs": [],
      "source": [
        "import os\n",
        "import sys\n",
        "import matplotlib.pyplot as plt\n",
        "import matplotlib.image as mpimg"
      ]
    },
    {
      "cell_type": "code",
      "execution_count": 4,
      "metadata": {
        "id": "aJmO53yGuzwN"
      },
      "outputs": [],
      "source": [
        "!mkdir ./dataset/images\n",
        "!mkdir ./dataset/labels\n",
        "!mv ./dataset/train/images/* ./dataset/images\n",
        "!mv ./dataset/valid/images/* ./dataset/images\n",
        "!mv ./dataset/test/images/* ./dataset/images\n",
        "!mv ./dataset/train/labels/* ./dataset/labels\n",
        "!mv ./dataset/valid/labels/* ./dataset/labels\n",
        "!mv ./dataset/test/labels/* ./dataset/labels\n",
        "!rm -r ./dataset/train\n",
        "!rm -r ./dataset/valid\n",
        "!rm -r ./dataset/test"
      ]
    },
    {
      "cell_type": "markdown",
      "metadata": {
        "id": "Q0-o6v8ivw17"
      },
      "source": [
        "# データローダーの定義"
      ]
    },
    {
      "cell_type": "code",
      "execution_count": 5,
      "metadata": {
        "id": "pXDvlFc8vNdh"
      },
      "outputs": [],
      "source": [
        "from PIL import Image\n",
        "import pandas as pd\n",
        "import matplotlib.patches as patches"
      ]
    },
    {
      "cell_type": "code",
      "execution_count": 6,
      "metadata": {
        "id": "MyWHbX5yvX5w"
      },
      "outputs": [],
      "source": [
        "class LabeledImage:\n",
        "    def __init__(self, name):\n",
        "        self.name = name\n",
        "        self.image_path = f'./dataset/images/{name}.jpg'\n",
        "        self.label_path = f'./dataset/labels/{name}.txt'\n",
        "\n",
        "        if not os.path.exists(self.image_path):\n",
        "            raise FileNotFoundError(f\"Image not found: {self.image_path}\")\n",
        "        if not os.path.exists(self.label_path):\n",
        "            raise FileNotFoundError(f\"Label file not found: {self.label_path}\")\n",
        "\n",
        "    def show_image(self):\n",
        "        img = Image.open(self.image_path)\n",
        "        plt.imshow(img)\n",
        "        plt.axis('off')\n",
        "        plt.title(f'Image: {self.name}.jpg')\n",
        "        plt.show()\n",
        "\n",
        "    def show_labels(self):\n",
        "        df = self._load_labels_dataframe()\n",
        "        print(f'Labels for {self.name}.txt (YOLO format):')\n",
        "        display(df)\n",
        "\n",
        "    def show_all(self, draw_boxes=False):\n",
        "        \"\"\"Display image and label table side by side, with optional bounding boxes.\"\"\"\n",
        "        df = self._load_labels_dataframe()\n",
        "        df_T = df.T\n",
        "\n",
        "        fig, axs = plt.subplots(1, 2, figsize=(13, 5), gridspec_kw={'width_ratios': [1, 1.1]})\n",
        "\n",
        "        # Load image\n",
        "        img = Image.open(self.image_path)\n",
        "        axs[0].imshow(img)\n",
        "        axs[0].axis('off')\n",
        "        axs[0].set_title(f'Image: {self.name}.jpg', fontsize=12)\n",
        "\n",
        "        # Optionally draw bounding boxes\n",
        "        if draw_boxes and not df.empty and 'x_center' in df.columns:\n",
        "            width, height = img.size\n",
        "            for _, row in df.iterrows():\n",
        "                try:\n",
        "                    xc = float(row['x_center']) * width\n",
        "                    yc = float(row['y_center']) * height\n",
        "                    w = float(row['width']) * width\n",
        "                    h = float(row['height']) * height\n",
        "                    xmin = xc - w / 2\n",
        "                    ymin = yc - h / 2\n",
        "                    rect = patches.Rectangle((xmin, ymin), w, h,\n",
        "                                             linewidth=2, edgecolor='red', facecolor='none')\n",
        "                    axs[0].add_patch(rect)\n",
        "                    axs[0].text(xmin, ymin - 5, str(row['Label']),\n",
        "                                color='red', fontsize=10, backgroundcolor='white')\n",
        "                except Exception as e:\n",
        "                    continue  # skip invalid rows\n",
        "\n",
        "        # Right: label table\n",
        "        axs[1].axis('off')\n",
        "        axs[1].set_title(f'Labels: {self.name}.txt', fontsize=12)\n",
        "\n",
        "        table = axs[1].table(\n",
        "            cellText=df_T.values,\n",
        "            rowLabels=df_T.index,\n",
        "            colLabels=df_T.columns,\n",
        "            loc='center',\n",
        "            cellLoc='center',\n",
        "            colLoc='center',\n",
        "        )\n",
        "        table.auto_set_font_size(False)\n",
        "        table.set_fontsize(10)\n",
        "        table.scale(1.1, 1.3)\n",
        "\n",
        "        plt.tight_layout()\n",
        "        plt.show()\n",
        "\n",
        "    def _load_labels_dataframe(self):\n",
        "        \"\"\"Load labels from YOLO-format text file into a DataFrame.\"\"\"\n",
        "        with open(self.label_path, 'r') as f:\n",
        "            lines = f.readlines()\n",
        "\n",
        "        data = []\n",
        "        if lines:\n",
        "            for i, line in enumerate(lines, start=1):\n",
        "                parts = line.strip().split()\n",
        "                if len(parts) == 5:\n",
        "                    label, x, y, w, h = parts\n",
        "                    data.append({\n",
        "                        'Line': i,\n",
        "                        'Label': label,\n",
        "                        'x_center': x,\n",
        "                        'y_center': y,\n",
        "                        'width': w,\n",
        "                        'height': h\n",
        "                    })\n",
        "                else:\n",
        "                    data.append({\n",
        "                        'Line': i,\n",
        "                        'Label': '[invalid]',\n",
        "                        'x_center': '',\n",
        "                        'y_center': '',\n",
        "                        'width': '',\n",
        "                        'height': line.strip() or '[empty]'\n",
        "                    })\n",
        "        else:\n",
        "            data.append({\n",
        "                'Line': '-',\n",
        "                'Label': '[no label]',\n",
        "                'x_center': '', 'y_center': '', 'width': '', 'height': ''\n",
        "            })\n",
        "\n",
        "        return pd.DataFrame(data)"
      ]
    },
    {
      "cell_type": "markdown",
      "metadata": {
        "id": "J9INeko6AVgr"
      },
      "source": [
        "# 画像の切り出し"
      ]
    },
    {
      "cell_type": "markdown",
      "metadata": {
        "id": "c0LaqI7CAZCK"
      },
      "source": [
        "正解画像のファイル名は以下のテキスト`.jpg`"
      ]
    },
    {
      "cell_type": "code",
      "execution_count": 8,
      "metadata": {
        "id": "AaSw7IZ8-Y60"
      },
      "outputs": [],
      "source": [
        "clean_files = [\n",
        "    '1-150-_jpg.rf.5f11b2a20acd4ebe0e7badd6d565bda3',\n",
        " '1-150-_jpg.rf.c8ece3f6d7c0960e9308edd6a891750a',\n",
        " '1-150-_jpg.rf.de3b439e034b9be3bb00b98b9fdaf60c',\n",
        " '10-155-_jpg.rf.7d5e9f2a92f7f91e8688c27fd0e193a0',\n",
        " '11-34-_jpg.rf.cfbd37c000ab152b709e0fdd976e3964',\n",
        " '11-35-_jpg.rf.5e91dab7b4a28387054bebdbd9f7c8fd',\n",
        " '11-35-_jpg.rf.94b4877e7e9bb063133edf193ba5eac5',\n",
        " '11-35-_jpg.rf.b726d53961952b67c10f35a8723a2ca9',\n",
        " '12-129-_jpg.rf.0e554f015321aad918e1d6d0d6a051d0',\n",
        " '12-129-_jpg.rf.8187998bd09edc5f84d9b4057a50deaa',\n",
        " '12-129-_jpg.rf.ebc0d4f4affdef90012587ae9573b74e',\n",
        " '12-130-_jpg.rf.3d946ab5db54a68a8f4013c47a4f3e5e',\n",
        " '12-130-_jpg.rf.c9934fa36ef13f2c10405c2f776c9546',\n",
        " '12-130-_jpg.rf.d1a6bc07258ba393c8c9168dfc77f34f',\n",
        " '13-97-_jpg.rf.0d6f52913ec0ab12da95b7ea979ddd6b',\n",
        " '13-97-_jpg.rf.645207a678f28e28edda314f8ead0438',\n",
        " '13-97-_jpg.rf.c748809c212aabd5a2c48a59c665bbd6',\n",
        " '13-98-_jpg.rf.85a2ae11f1662b327df1c9533bc6654f',\n",
        " '13-98-_jpg.rf.dd533b457d8a49ab7b281c18e3e6e22c',\n",
        " '13-98-_jpg.rf.e560786131cb4fc744c75c0e6cb4af25',\n",
        " '13-99-_jpg.rf.2ad7fcb19f68a381f0ff50e8e1f09ff2',\n",
        " '13-99-_jpg.rf.44c0fea161c5d21c54e3e7fb08371e0c',\n",
        " '13-99-_jpg.rf.d9f048e793727557fad8b0a19534deb4',\n",
        " '14-147-_jpg.rf.77318f71cf80b6330c03579da9d84c38',\n",
        " '14-147-_jpg.rf.7749269ee62ae45ce9c7658fb8e9efa1',\n",
        " '14-147-_jpg.rf.bd2ca290e2e08bffba20f4855a1214bd',\n",
        " '15-70-_jpg.rf.c88b74eb4d450b5cb4edfd9f7a443b86',\n",
        " '15-71-_jpg.rf.2301d060027900713e84e3b203699b48',\n",
        " '15-71-_jpg.rf.99005aa8275854c22f7dc65b26912348',\n",
        " '15-71-_jpg.rf.d70aff7202586176df4ec9666876488e',\n",
        " '16-94-_jpg.rf.56357dce4ee5f063a3c683b126247aa0',\n",
        " '16-94-_jpg.rf.88df752b59acdea3a95efbd10e03bc66',\n",
        " '16-94-_jpg.rf.bc70873ed351992c70310c70a16a4a1c',\n",
        " '16-95-_jpg.rf.68c32b07994e1a4bf50b970e431f0fec',\n",
        " '16-95-_jpg.rf.e102d7989127afcad8bf73f486ce0ff6',\n",
        " '16-95-_jpg.rf.e6e217456a13c25f4f7a32c27e46e2de',\n",
        " '17-155-_jpg.rf.75ebf615e81e6f07eee1431faf2167f8',\n",
        " '18-1-_jpg.rf.c0f43eb921fad2ef5c69b8b77c6263e7',\n",
        " '18-1-_jpg.rf.d5230b5e93c7282d9724d9a38c95b4de',\n",
        " '18-1-_jpg.rf.f53ca28e6c0b8214e283e2da20e09135',\n",
        " '18-117-_jpg.rf.14a3358f013ba1ed908d27288914bcf2',\n",
        " '18-117-_jpg.rf.14b35f51e04482ccae7f175420c04a1c',\n",
        " '18-117-_jpg.rf.4d904ba515c871701e6f91c3f31621e8',\n",
        " '19-155-_jpg.rf.6316e46ddaf7e3abcf4b6afc6a779b8f',\n",
        " '20-153-_jpg.rf.1dfec0530b947373b30f923944570be6',\n",
        " '20-153-_jpg.rf.eca5c84bd9ed6efe98c84a3da6c4fc86',\n",
        " '20-153-_jpg.rf.fa39d487f27fb52054215ee55b132642',\n",
        " '20-154-_jpg.rf.089e280d9fde8ddec599e7ff374b6d20',\n",
        " '20-154-_jpg.rf.4dd3570e532cda28f65bb3dabf2c87e7',\n",
        " '20-154-_jpg.rf.e0af6a9c176f2c41bab00e40e15752e0',\n",
        " '20-155-_jpg.rf.3f360fde47270ddf034fcc355c4ac77b',\n",
        " '22-1-_jpg.rf.d8a621d5af8686757a4c1c7ca62bae51',\n",
        " '22-1-_jpg.rf.d994d67b11f1d06a0f9d5042364ecd61',\n",
        " '22-1-_jpg.rf.fed74b8bc8b0e6e9cf78efc636d85d24',\n",
        " '22-153-_jpg.rf.16394d2249651a52d5bf843bd4d98c95',\n",
        " '22-153-_jpg.rf.61d26ae26fea6d89d03724597b670324',\n",
        " '22-153-_jpg.rf.ac58017ba881b6d1e15b8dd0645bf343',\n",
        " '22-154-_jpg.rf.92b1d1bc526d561a1c8f37a633ac79e4',\n",
        " '22-154-_jpg.rf.bd0fecb011f93a3649b928998f6b1fc3',\n",
        " '22-154-_jpg.rf.c72274b2e788771bb2e694e09d918e9e',\n",
        " '22-155-_jpg.rf.057415441b9b324824995abd87ec7f97',\n",
        " '23-3-_jpg.rf.2a8bd16b25d9c7a198c5413d2ff82c14',\n",
        " '23-3-_jpg.rf.9377c0246453339bad2e48d0d5d39235',\n",
        " '23-3-_jpg.rf.cf3d2be63975a2a9ecd62fe8cb7aeacb',\n",
        " '23-31-_jpg.rf.dda7c04b0cace3de3f8a71b8be8c0349',\n",
        " '23-4-_jpg.rf.5fbad10fc3187445a711fe3bc34dab86',\n",
        " '23-4-_jpg.rf.f195ec628663a042e0731bff4ef348cd',\n",
        " '23-4-_jpg.rf.fd63a301826caaf10d4d227019a21374',\n",
        " '23-50-_jpg.rf.7a31eef97a039c9923460b2daa56fce4',\n",
        " '24-152-_jpg.rf.c4ad056b105f3af0d7ff97b34521e016',\n",
        " '24-153-_jpg.rf.6059d2a1a5cadb26febd809685910230',\n",
        " '24-153-_jpg.rf.ebb71f73f88ba67949aa768de029161e',\n",
        " '24-153-_jpg.rf.fa9c6e1fd2f23b29c8091c1523264d75',\n",
        " '24-155-_jpg.rf.46d0dddc5c6d21d2843a333a975fcd27',\n",
        " '24-155-_jpg.rf.49b703f1c02c22441e480ebac8055ba5',\n",
        " '24-155-_jpg.rf.63bb044f3e5a6e28e84db4f8347be188',\n",
        " '25-155-_jpg.rf.2e78dca252d4aeb12333245576977051',\n",
        " '25-155-_jpg.rf.2eb98b31995e905c9b441ebd7b6556ba',\n",
        " '25-155-_jpg.rf.b147b9b11cb210714d77d22a4d97e309',\n",
        " '26-33-_jpg.rf.09c07fb84cf5eaa5339d547ecb194142',\n",
        " '26-33-_jpg.rf.b3657640559acc65cee3cd42f0e8c590',\n",
        " '26-33-_jpg.rf.b5c8907f3b7b57e96be09ac49c479e44',\n",
        " '27-78-_jpg.rf.40768483b04121a9aad6a165b94be2d2',\n",
        " '27-78-_jpg.rf.6f62807bc3f411cdfb6ab1eb158b6ad5',\n",
        " '27-78-_jpg.rf.ddc36e0cd06160b1db43a5edd3e034aa',\n",
        " '27-79-_jpg.rf.1e46af57e6c0b19407297c3b4e920efd',\n",
        " '27-79-_jpg.rf.c14d8061be6bb183d7c95ab2d3b5c84b',\n",
        " '27-79-_jpg.rf.e3bd59a4520e5ea203d1a9db16cff598',\n",
        " '28-154-_jpg.rf.61635911cafd5d3442afd7d76f03a860',\n",
        " '28-154-_jpg.rf.9d76f8dc7db754e0f2ee7b4bb73d3dd9',\n",
        " '28-154-_jpg.rf.caca6954ccb3cc27144e893a977d5b85',\n",
        " '28-155-_jpg.rf.43f8545917fdbf71bae04ada5cb36c8c',\n",
        " '28-155-_jpg.rf.77b0798e35f111c6d9b5c6b6f93b8069',\n",
        " '28-155-_jpg.rf.e70948e24005e330f2434351988e3680',\n",
        " '29-151-_jpg.rf.4bef55881d5e2da8b9d3fa6810f399ef',\n",
        " '29-151-_jpg.rf.a160839da23b9ea5621fa27298d552e8',\n",
        " '29-151-_jpg.rf.b234b542d1be809821d32be6037736c6',\n",
        " '29-152-_jpg.rf.5c2026bcb44f2b7d634281776451a5a5',\n",
        " '29-153-_jpg.rf.299fc4e17eaeb4ca82bdbd7513f6493a',\n",
        " '29-153-_jpg.rf.cd4ce3e7b284235b28128495a022caea',\n",
        " '29-153-_jpg.rf.d78d22aafe94260b7d0d0ab7a28241da',\n",
        " '29-154-_jpg.rf.74032768d2992d9d356a81385a06348c',\n",
        " '29-154-_jpg.rf.917a0f003c2b82278be3836763dfa1b7',\n",
        " '29-154-_jpg.rf.9b6f84f8f3d7b6c707221f5e31ea9004',\n",
        " '29-155-_jpg.rf.45fd06a3cc090c55e7d90f1b4ab40ab1',\n",
        " '29-155-_jpg.rf.8fcb6e8ee7fb2f7ddfc5899bee0d6427',\n",
        " '29-155-_jpg.rf.b0628c9b1aa5dfd73d2512c7a9cd7037',\n",
        " '30-129-_jpg.rf.dfe6e6ebbed12ebdbd02d924c1d0691c',\n",
        " '30-42-_jpg.rf.152cf7b51066006f37f268de21d7aa82',\n",
        " '30-42-_jpg.rf.17f5379b2d1757f0572ddbc9e898157b',\n",
        " '30-42-_jpg.rf.3dab1d2127534788afe846a36d54f831',\n",
        " '4-155-_jpg.rf.38924cd443b8e9487af363b787bd5f65',\n",
        " '4-71-_jpg.rf.d2a79d20d5794bf68182829592a5956d',\n",
        " '4-72-_jpg.rf.46d134b430511a8f459fc82e1d3ed3de',\n",
        " '4-72-_jpg.rf.52ddcdc4669d10a02bde8dcde930ed4b',\n",
        " '4-72-_jpg.rf.7670d5b9dc13e33fba8f2747c9e5fbee',\n",
        " '4-74-_jpg.rf.15305a2c07b08267c2fb8ad3cb5b38a1',\n",
        " '4-74-_jpg.rf.35b7a11f358e730eb87e383753ed7e10',\n",
        " '4-74-_jpg.rf.f7d80d659a698e70fd02c2e64a780d67',\n",
        " '5-155-_jpg.rf.5824b76914dbd4441382c9c7c2212b1a',\n",
        " '5-155-_jpg.rf.58790b69a43328a9dc9bb14694fac127',\n",
        " '5-155-_jpg.rf.f1115c210a1f19bf554383b8e5269a6a',\n",
        " '6-143-_jpg.rf.751a998d3a3b729795d4ce7e14b479a5',\n",
        " '6-144-_jpg.rf.04930606a9baa75377535a5f501532b4',\n",
        " '6-144-_jpg.rf.8f43fbf87cabfc1b2ae6b84dbb2f8f7b',\n",
        " '6-144-_jpg.rf.a2cbe9c4f405f2f4dbf366bf8c1d2381',\n",
        " '7-155-_jpg.rf.1d3ca7969bcca01b6dc4b96fc96e5d4b',\n",
        " '7-155-_jpg.rf.91dd3eb1ae8765da1eaa7312fd09a71d',\n",
        " '7-155-_jpg.rf.b2a89095493815b0c60f5e4594484ea1',\n",
        " '8-143-_jpg.rf.77c2040c4e531ef3fd9e19e28de7afd5',\n",
        " '8-143-_jpg.rf.afdafa39359261c703e1f799faeaf22e',\n",
        " '8-143-_jpg.rf.b1cc4d46409dff8378758e53dd13950d',\n",
        " '8-155-_jpg.rf.d925dee709ab68e92920703b220d3735',\n",
        " '8-155-_jpg.rf.e2b34c5d063aab4a21ce4721f6a0429b',\n",
        " '8-155-_jpg.rf.e84568ea7207254818cb94d5fabdf799',\n",
        " '9-87-_jpg.rf.0c729764a312b809e696680268980eb5',\n",
        " '9-88-_jpg.rf.185868435de8aabeeb5dd492ba2487d6',\n",
        " '9-88-_jpg.rf.1d8b7d8cd85438de35fd8ac4b7858cbd',\n",
        " '9-88-_jpg.rf.ef9d56588a0bbda7bb7d13d8503deb15',\n",
        " 'c-307-_jpg.rf.6619d127a69515f2e6c37f74af5313e5',\n",
        " 'c-307-_jpg.rf.8ef9b371d7ef586dd213758e2bd80031',\n",
        " 'c-307-_jpg.rf.a4f3cb66cf4e95aad4d73181b6e028dc',\n",
        " 'c-308-_jpg.rf.30adb738e31bebede68f2e157716b890',\n",
        " 'c-308-_jpg.rf.3c8727066b477f1013e110bc78b12892',\n",
        " 'c-308-_jpg.rf.e2b3091648f07423d19de3ca6899298a',\n",
        " 'download-5-Copy_png.rf.fcfd52afe6b508265bba2bfe69e0afc4',\n",
        " 'W1-2-L-1-_png_jpg.rf.51ee32eb5ec407f05dcc0167f30f9d6e',\n",
        " 'W1-2-L-2-_png_jpg.rf.fcb670d02cffd184da2ee976080e4be7',\n",
        " 'W1-2-L-3-_png_jpg.rf.4efcc824837fec678e9e94cb9472a546',\n",
        " 'W1-2-L-4-_png_jpg.rf.d0d036ef5a5f0b96fda7fe4b6a498bde',\n",
        " 'W1-2-L-5-_png_jpg.rf.26287c88f4fa25a197fca07ace161ea9',\n",
        " 'W1-2-L-6-_png_jpg.rf.0acfa416def8a30d34864a3df67b2b6d',\n",
        " 'W1-2-R-1-_png_jpg.rf.3ebba31fd036ff48ef9042711b93dd07',\n",
        " 'W1-2-R-2-_png_jpg.rf.aed3db52fc5835b0af153da637c3c5b0',\n",
        " 'W1-2-R-3-_png_jpg.rf.486e172dbdd36d1b7172ba71e545bb9e',\n",
        " 'W1-2-R-4-_png_jpg.rf.97bc827c51915005d45e472402b3b763',\n",
        " 'W1-2-R-5-_png_jpg.rf.1e4bd84f6eddd3b3c12df79defa4eace',\n",
        " 'W1-2-R-6-_png_jpg.rf.c5fbedb703261b849025b543863d7e0a',\n",
        " 'W1-3-R-1-_png_jpg.rf.0542686ce10b88cdfa44555b75b47cb6',\n",
        " 'W1-3-R-2-_png_jpg.rf.72898e5662ccde3f98966c6d923ef208',\n",
        " 'W1-3-R-3-_png_jpg.rf.49d1e4b9821af04e8e09e02d82969c38',\n",
        " 'W1-3-R-4-_png_jpg.rf.5464a42710d3ae8e56f13ed63a3974cb',\n",
        " 'W1-3-R-5-_png_jpg.rf.24c4b70fb7925f4be88c19948e080cbe',\n",
        " 'W1-3-R-6-_png_jpg.rf.265b6dec361f96c5a691c364fceb1eb6',\n",
        " 'W1-5-L-1-_png_jpg.rf.c3592ae9a2bb46f76808ecb58bb41bee',\n",
        " 'W1-5-L-2-_png_jpg.rf.b76bfc22e57ff57c3303ab25610c3c03',\n",
        " 'W1-5-L-3-_png_jpg.rf.248e26dabde1c784352e1887f314bc5d',\n",
        " 'W1-5-L-4-_png_jpg.rf.5cdd0c5e7ffe31075a8e4d6514b705f7',\n",
        " 'W1-5-L-6-_png_jpg.rf.ef7a46c62c5f35e2e5e28a7708d77a70',\n",
        " 'W1-5-R-1-_png_jpg.rf.d466c4450e6e3ca1b47f05d94dad62b1',\n",
        " 'W1-5-R-2-_png_jpg.rf.01f2c329ef78acaa8e30f2b62d4101a2',\n",
        " 'W1-5-R-3-_png_jpg.rf.1c39544bb1cbcddf9eb38ba6ada1a23a',\n",
        " 'W1-5-R-4-_png_jpg.rf.f39ebf643225334038f06e41e1e8f859',\n",
        " 'W1-5-R-5-_png_jpg.rf.2d214a8a337a0983538727e8ab8e247c',\n",
        " 'W1-5-R-6-_png_jpg.rf.5a29930097e9cc0db140002376f75792']"
      ]
    },
    {
      "cell_type": "code",
      "execution_count": 9,
      "metadata": {
        "id": "9TJzstOs-kC8"
      },
      "outputs": [],
      "source": [
        "clean_files = set(clean_files)"
      ]
    },
    {
      "cell_type": "code",
      "execution_count": 10,
      "metadata": {
        "id": "we5xV9uK8EGl"
      },
      "outputs": [],
      "source": [
        "from tqdm.notebook import tqdm\n",
        "import os\n",
        "import cv2\n",
        "import glob\n",
        "import shutil\n",
        "import random\n",
        "from collections import defaultdict"
      ]
    },
    {
      "cell_type": "markdown",
      "metadata": {
        "id": "gdrV5cguDOu_"
      },
      "source": [
        "きれいな標識画像は，`cleanimage` ディレクトリ下のラベル名のディレクトリ内に格納．\n",
        "\n",
        "それ以外は `train/valid/test` に $7:2:1$ の比に分割して対応するディレクトリの，ラベル名のディレクトリ下に配置．"
      ]
    },
    {
      "cell_type": "code",
      "execution_count": null,
      "metadata": {
        "id": "jwr7E3RO8HEj"
      },
      "outputs": [],
      "source": [
        "# 設定\n",
        "image_dir = \"./dataset/images\"\n",
        "label_dir = \"./dataset/labels\"\n",
        "output_base = \"./dataset\"\n",
        "splits = ['train', 'val', 'test']\n",
        "split_ratio = [0.7, 0.2, 0.1]\n",
        "output_size = (100, 100)\n",
        "class_digits = 2\n",
        "id_digits = 3\n",
        "\n",
        "# ディレクトリ作成\n",
        "for split in splits:\n",
        "    os.makedirs(os.path.join(output_base, split), exist_ok=True)\n",
        "\n",
        "# データ収集\n",
        "image_paths = sorted(glob.glob(os.path.join(image_dir, \"*.jpg\")))\n",
        "label_paths = {os.path.splitext(os.path.basename(p))[0]: p for p in glob.glob(os.path.join(label_dir, \"*.txt\"))}\n",
        "\n",
        "# 分割\n",
        "random.seed(42)\n",
        "random.shuffle(image_paths)\n",
        "split_points = [int(len(image_paths) * sum(split_ratio[:i+1])) for i in range(len(split_ratio))]\n",
        "split_image_lists = [\n",
        "    image_paths[:split_points[0]],\n",
        "    image_paths[split_points[0]:split_points[1]],\n",
        "    image_paths[split_points[1]:]\n",
        "]\n",
        "\n",
        "# クラスごとのカウンター\n",
        "class_id_counter = defaultdict(int)\n",
        "clean_id_counter = defaultdict(int)\n",
        "\n",
        "# データ処理\n",
        "for split, images in zip(splits, split_image_lists):\n",
        "    for image_path in tqdm(images):\n",
        "        base = os.path.splitext(os.path.basename(image_path))[0]\n",
        "        label_path = label_paths.get(base)\n",
        "        if not label_path:\n",
        "            continue\n",
        "\n",
        "        img = cv2.imread(image_path)\n",
        "        height, width = img.shape[:2]\n",
        "\n",
        "        with open(label_path, 'r') as f:\n",
        "            lines = f.readlines()\n",
        "\n",
        "        for line in lines:\n",
        "            parts = line.strip().split()\n",
        "            if len(parts) != 5:\n",
        "                continue\n",
        "            cls, x_center, y_center, w, h = map(float, parts)\n",
        "            cls = int(cls)\n",
        "            cls_str = str(cls + 1).zfill(class_digits)\n",
        "\n",
        "            x1 = int((x_center - w / 2) * width)\n",
        "            y1 = int((y_center - h / 2) * height)\n",
        "            x2 = int((x_center + w / 2) * width)\n",
        "            y2 = int((y_center + h / 2) * height)\n",
        "\n",
        "            x1 = max(0, x1)\n",
        "            y1 = max(0, y1)\n",
        "            x2 = min(width, x2)\n",
        "            y2 = min(height, y2)\n",
        "\n",
        "            cropped = img[y1:y2, x1:x2]\n",
        "            if cropped.size == 0:\n",
        "                continue\n",
        "\n",
        "            resized = cv2.resize(cropped, output_size)\n",
        "\n",
        "            class_id_counter[cls_str] += 1\n",
        "            file_id = str(class_id_counter[cls_str]).zfill(id_digits)\n",
        "\n",
        "            if base in clean_files:\n",
        "                clean_id_counter[cls_str] += 1\n",
        "                file_id = str(clean_id_counter[cls_str]).zfill(id_digits)\n",
        "                save_dir = os.path.join(output_base, \"cleanimage\", cls_str)\n",
        "                filename = f\"clean{cls_str}{file_id}.jpg\"\n",
        "            else:\n",
        "                class_id_counter[cls_str] += 1\n",
        "                file_id = str(class_id_counter[cls_str]).zfill(id_digits)\n",
        "                save_dir = os.path.join(output_base, split, cls_str)\n",
        "                filename = f\"img{cls_str}{file_id}.jpg\"\n",
        "\n",
        "            os.makedirs(save_dir, exist_ok=True)\n",
        "            cv2.imwrite(os.path.join(save_dir, filename), resized)"
      ]
    },
    {
      "cell_type": "code",
      "execution_count": 16,
      "metadata": {
        "colab": {
          "base_uri": "https://localhost:8080/"
        },
        "id": "QpS0YtGGA7AO",
        "outputId": "9e70f08d-7cfa-42ae-d2c3-01e77d6c5a0f"
      },
      "outputs": [
        {
          "name": "stdout",
          "output_type": "stream",
          "text": [
            "34\n"
          ]
        }
      ],
      "source": [
        "!ls -l ./dataset/cleanimage/ | grep ^d | wc -l"
      ]
    },
    {
      "cell_type": "markdown",
      "metadata": {
        "id": "2GkSK2rYEara"
      },
      "source": [
        "# ラベル名の翻訳"
      ]
    },
    {
      "cell_type": "code",
      "execution_count": 17,
      "metadata": {
        "id": "FyMHxlJxCdJF"
      },
      "outputs": [],
      "source": [
        "labelname_en = [\n",
        "    \"First Aid Station\",\n",
        "    \"Children Area\",\n",
        "    \"Winding Road Right\",\n",
        "    \"Winding Road Left\",\n",
        "    \"Stop\",\n",
        "    \"No Right Turn\",\n",
        "    \"No Left Turn\",\n",
        "    \"No Stopping\",\n",
        "    \"No Entry\",\n",
        "    \"No Overtaking\",\n",
        "    \"No Parking\",\n",
        "    \"No U-Turn\",\n",
        "    \"Church\",\n",
        "    \"Caution\",\n",
        "    \"Roundabout\",\n",
        "    \"Bicycle Lane\",\n",
        "    \"Max Speed 30\",\n",
        "    \"Max Speed 40\",\n",
        "    \"Left Lane\",\n",
        "    \"Traffic Light\",\n",
        "    \"Weight Limit 10t\",\n",
        "    \"Mosque\",\n",
        "    \"Bus Stop\",\n",
        "    \"Pedestrian Crossing\",\n",
        "    \"Railroad Crossing\",\n",
        "    \"Crosswalk Required\",\n",
        "    \"T-Junction Priority\",\n",
        "    \"T-Junction Right Priority\",\n",
        "    \"T-Junction Left Priority\",\n",
        "    \"T-Junction Left\",\n",
        "    \"Crossroad\",\n",
        "    \"Choose One Lane\",\n",
        "    \"Speed Bump\",\n",
        "    \"Gas Station\",\n",
        "    \"U-Turn\",\n",
        "    \"Hospital\",\n",
        "    \"Parking Area\",\n",
        "    \"Double Curve Right\",\n",
        "    \"Double Curve Left\",\n",
        "    \"Right Turn\"\n",
        "]"
      ]
    },
    {
      "cell_type": "code",
      "execution_count": 18,
      "metadata": {
        "id": "b2D1g5HQEe46"
      },
      "outputs": [],
      "source": [
        "labelname_ja = [\n",
        "    \"応急処置所\",\n",
        "    \"子ども注意\",\n",
        "    \"右カーブあり\",\n",
        "    \"左カーブあり\",\n",
        "    \"一時停止\",\n",
        "    \"右折禁止\",\n",
        "    \"左折禁止\",\n",
        "    \"停止禁止\",\n",
        "    \"進入禁止\",\n",
        "    \"追い越し禁止\",\n",
        "    \"駐車禁止\",\n",
        "    \"転回禁止\",\n",
        "    \"教会\",\n",
        "    \"注意\",\n",
        "    \"ラウンドアバウト\",\n",
        "    \"自転車専用通行帯\",\n",
        "    \"最高速度30km/h\",\n",
        "    \"最高速度40km/h\",\n",
        "    \"左車線\",\n",
        "    \"信号機あり\",\n",
        "    \"重量制限10t\",\n",
        "    \"モスク\",\n",
        "    \"バス停\",\n",
        "    \"横断歩道\",\n",
        "    \"踏切注意\",\n",
        "    \"横断指示\",\n",
        "    \"優先T字路\",\n",
        "    \"右優先T字路\",\n",
        "    \"左優先T字路\",\n",
        "    \"左方向T字路\",\n",
        "    \"十字路\",\n",
        "    \"いずれかの車線選択\",\n",
        "    \"減速帯\",\n",
        "    \"ガソリンスタンド\",\n",
        "    \"転回可\",\n",
        "    \"病院\",\n",
        "    \"駐車場\",\n",
        "    \"二重カーブ右\",\n",
        "    \"二重カーブ左\",\n",
        "    \"右カーブ\"\n",
        "]"
      ]
    },
    {
      "cell_type": "code",
      "execution_count": 19,
      "metadata": {
        "id": "fc1-RuNeEgnZ"
      },
      "outputs": [],
      "source": [
        "num_to_lab_en = {i: labelname_en[i] for i in range(len(labelname_en))}\n",
        "num_to_lab_ja = {i: labelname_ja[i] for i in range(len(labelname_ja))}"
      ]
    },
    {
      "cell_type": "code",
      "execution_count": null,
      "metadata": {
        "id": "txhWhMAXEioo"
      },
      "outputs": [],
      "source": []
    }
  ],
  "metadata": {
    "colab": {
      "provenance": []
    },
    "kernelspec": {
      "display_name": "Python 3",
      "name": "python3"
    },
    "language_info": {
      "name": "python"
    }
  },
  "nbformat": 4,
  "nbformat_minor": 0
}
